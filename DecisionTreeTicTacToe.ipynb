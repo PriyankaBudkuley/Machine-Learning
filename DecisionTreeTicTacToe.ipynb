{
 "cells": [
  {
   "cell_type": "code",
   "execution_count": 1,
   "metadata": {},
   "outputs": [],
   "source": [
    "import pandas as pd\n",
    "import numpy as np\n",
    "from sklearn import preprocessing\n",
    "from sklearn.model_selection import train_test_split,cross_val_score,GridSearchCV\n",
    "from sklearn.tree import DecisionTreeClassifier\n",
    "import random\n",
    "import matplotlib.pyplot as plt"
   ]
  },
  {
   "cell_type": "code",
   "execution_count": 29,
   "metadata": {},
   "outputs": [
    {
     "name": "stdout",
     "output_type": "stream",
     "text": [
      "score for train set: 0.9838945827232797\n",
      "score for test set: 0.9354838709677419\n",
      "4\n"
     ]
    }
   ],
   "source": [
    "df = pd.read_csv('tic-tac-toe-endgame.csv')\n",
    "cl = df[\"V10\"].unique()\n",
    "\n",
    "x=df.drop(\"V10\", axis=1)\n",
    "y = df[\"V10\"]\n",
    "\n",
    "x = x.apply(preprocessing.LabelEncoder().fit_transform)\n",
    "le= preprocessing.LabelEncoder()\n",
    "y = le.fit_transform(y)\n",
    "\n",
    "x_train, x_test, y_train, y_test= train_test_split(x,y, test_size=0.29,random_state=0)\n",
    "\n",
    "clf = DecisionTreeClassifier(criterion='entropy', max_depth=9, min_impurity_decrease=0.0, min_samples_leaf=1, class_weight=\"balanced\", splitter='best')\n",
    "\n",
    "clf = clf.fit(x_train, y_train)\n",
    "\n",
    "result = clf.score(x_train,y_train)\n",
    "print(\"score for train set:\",result)\n",
    "result1 = clf.score(x_test,y_test)\n",
    "print(\"score for test set:\",result1)\n",
    "\n",
    "board = np.array([1,1,2,0,0,2,2,0,1])\n",
    "#X=1 and O=2\n",
    "#values_filled = (board == 0).sum()\n",
    "#print(values_filled)\n",
    "    \n",
    "df_possibilities = x.loc[\n",
    "x['V1'].apply(lambda x: range(0,8) if board[0]==0 else x==board[0])&\n",
    "x['V2'].apply(lambda x: range(0,8) if board[1]==0 else x==board[1])&\n",
    "x['V3'].apply(lambda x: range(0,8) if board[2]==0 else x==board[2])&\n",
    "x['V4'].apply(lambda x: range(0,8) if board[3]==0 else x==board[3])&\n",
    "x['V5'].apply(lambda x: range(0,8) if board[4]==0 else x==board[4])&\n",
    "x['V6'].apply(lambda x: range(0,8) if board[5]==0 else x==board[5])&\n",
    "x['V7'].apply(lambda x: range(0,8) if board[6]==0 else x==board[6])&\n",
    "x['V8'].apply(lambda x: range(0,8) if board[7]==0 else x==board[7])&\n",
    "x['V9'].apply(lambda x: range(0,8) if board[8]==0 else x==board[8])\n",
    "]\n",
    "\n",
    "                              \n",
    "df_possibilities = df_possibilities.reset_index(drop=True)\n",
    "prediction = clf.predict(df_possibilities)\n",
    "prediction = pd.DataFrame(prediction)\n",
    "prediction.columns = [\"prediction\"]\n",
    "df_possibilities_pred = pd.concat([df_possibilities,prediction],axis=1)\n",
    "\n",
    "df_win = df_possibilities_pred.loc[df_possibilities_pred['prediction'] == 1] #POSITIVES\n",
    "df_lose = df_possibilities_pred.loc[df_possibilities_pred['prediction'] == 0] #NEGATIVES\n",
    "    \n",
    "empty = []\n",
    "filled = []\n",
    "a = board.tolist()\n",
    "for i in range(len(a)):\n",
    "    if a[i] == 0:\n",
    "        empty.append(i)\n",
    "    elif a[i] != 0:\n",
    "        filled.append(i)\n",
    "        \n",
    "def getlistnum(li):\n",
    "    li = list(li)\n",
    "    set1 = set(li)\n",
    "    dict1 = {}\n",
    "    for item in set1:\n",
    "        dict1.update({item:li.count(item)})\n",
    "    return dict1\n",
    "\n",
    "winning_pos = []\n",
    "losing_pos = []  \n",
    "    \n",
    "if a.count(2) >= a.count(1): \n",
    "    for i in empty:\n",
    "        winning = getlistnum(df_win.iloc[:,i]).get(2,0)/len(df_win)\n",
    "        losing = getlistnum(df_lose.iloc[:,i]).get(2,0)/len(df_lose)\n",
    "        winning_pos.append(winning)\n",
    "        losing_pos.append(losing)\n",
    "    #Generate a random number and assign it to randInt\n",
    "        \n",
    "    \n",
    "com = pd.concat([pd.DataFrame(winning_pos),pd.DataFrame(losing_pos)],axis=1)\n",
    "com.columns = [\"winning\",\"losing\"]\n",
    "com[\"win\"] = np.where(com[\"winning\"]>com[\"losing\"],1,0)\n",
    "best_move_index = com.loc[com[\"win\"]==1][\"winning\"].idxmax()\n",
    "predicted_position = empty[best_move_index]\n",
    "print (predicted_position)"
   ]
  },
  {
   "cell_type": "code",
   "execution_count": 6,
   "metadata": {},
   "outputs": [
    {
     "name": "stdout",
     "output_type": "stream",
     "text": [
      "DecisionTreeClassifier(ccp_alpha=0.0, class_weight='balanced',\n",
      "                       criterion='entropy', max_depth=9, max_features=None,\n",
      "                       max_leaf_nodes=None, min_impurity_decrease=0.0,\n",
      "                       min_impurity_split=None, min_samples_leaf=1,\n",
      "                       min_samples_split=2, min_weight_fraction_leaf=0.0,\n",
      "                       presort='deprecated', random_state=None,\n",
      "                       splitter='best')\n"
     ]
    }
   ],
   "source": [
    "print(clf)"
   ]
  },
  {
   "cell_type": "code",
   "execution_count": 23,
   "metadata": {},
   "outputs": [
    {
     "name": "stdout",
     "output_type": "stream",
     "text": [
      "Accuracy: 94.3%\n"
     ]
    }
   ],
   "source": [
    "from sklearn.metrics import confusion_matrix\n",
    "import seaborn as sns\n",
    "import matplotlib.pyplot as plt\n",
    "from sklearn import svm\n",
    "from sklearn import metrics\n",
    " \n",
    "cm = clf.predict(x_test)\n",
    "print(\"Accuracy: {0:.1f}%\".format(metrics.accuracy_score(y_test,cm) * 100))"
   ]
  },
  {
   "cell_type": "code",
   "execution_count": 22,
   "metadata": {},
   "outputs": [
    {
     "data": {
      "image/png": "[encoded data removed]",
      "text/plain": [
       "<Figure size 288x288 with 2 Axes>"
      ]
     },
     "metadata": {
      "needs_background": "light"
     },
     "output_type": "display_data"
    }
   ],
   "source": [
    "plt.figure(figsize=(4,4))\n",
    "sns.heatmap(metrics.confusion_matrix(y_test,cm), annot=True, linewidths=.5, square = True, cmap = 'Blues_r');\n",
    "plt.ylabel('Actual label');\n",
    "plt.xlabel('Predicted label');\n",
    "plt.show()"
   ]
  },
  {
   "cell_type": "code",
   "execution_count": null,
   "metadata": {},
   "outputs": [],
   "source": []
  }
 ],
 "metadata": {
  "kernelspec": {
   "display_name": "Python 3",
   "language": "python",
   "name": "python3"
  },
  "language_info": {
   "codemirror_mode": {
    "name": "ipython",
    "version": 3
   },
   "file_extension": ".py",
   "mimetype": "text/x-python",
   "name": "python",
   "nbconvert_exporter": "python",
   "pygments_lexer": "ipython3",
   "version": "3.7.6"
  }
 },
 "nbformat": 4,
 "nbformat_minor": 4
}
